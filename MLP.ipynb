{
  "nbformat": 4,
  "nbformat_minor": 0,
  "metadata": {
    "colab": {
      "name": "MLP.ipynb",
      "provenance": [],
      "collapsed_sections": [],
      "authorship_tag": "ABX9TyNSU+Lbo7/AShaRo2uPfTGQ",
      "include_colab_link": true
    },
    "kernelspec": {
      "name": "python3",
      "display_name": "Python 3"
    }
  },
  "cells": [
    {
      "cell_type": "markdown",
      "metadata": {
        "id": "view-in-github",
        "colab_type": "text"
      },
      "source": [
        "<a href=\"https://colab.research.google.com/github/reubenraff/Data_science/blob/master/MLP.ipynb\" target=\"_parent\"><img src=\"https://colab.research.google.com/assets/colab-badge.svg\" alt=\"Open In Colab\"/></a>"
      ]
    },
    {
      "cell_type": "code",
      "metadata": {
        "id": "7aV9bXEPvPVo"
      },
      "source": [
        "from sklearn.datasets import fetch_20newsgroups\n",
        "from sklearn.naive_bayes import MultinomialNB\n",
        "from sklearn.linear_model import SGDClassifier\n",
        "from sklearn.neural_network import MLPClassifier\n",
        "from sklearn.feature_extraction.text import CountVectorizer\n"
      ],
      "execution_count": 1,
      "outputs": []
    },
    {
      "cell_type": "code",
      "metadata": {
        "id": "RLqahcnUvVH-",
        "outputId": "c119866b-0674-4650-e79d-188ee74c1e45",
        "colab": {
          "base_uri": "https://localhost:8080/",
          "height": 51
        }
      },
      "source": [
        "train_emails = fetch_20newsgroups(categories=['talk.religion.misc','soc.religion.christian'],subset='train',shuffle=True,random_state=108)\n",
        "\n",
        "#talk.religion.misc\n",
        "#soc.religion.christian\n",
        "\n",
        "\n",
        "test_emails = fetch_20newsgroups(categories=[\"talk.religion.misc\",\"soc.religion.christian\"],subset='test',shuffle=True,random_state=108)"
      ],
      "execution_count": 2,
      "outputs": [
        {
          "output_type": "stream",
          "text": [
            "Downloading 20news dataset. This may take a few minutes.\n",
            "Downloading dataset from https://ndownloader.figshare.com/files/5975967 (14 MB)\n"
          ],
          "name": "stderr"
        }
      ]
    },
    {
      "cell_type": "code",
      "metadata": {
        "id": "eu-9y1w1vbgn",
        "outputId": "e8957396-aba0-4c42-8a19-80541d7b6c61",
        "colab": {
          "base_uri": "https://localhost:8080/",
          "height": 34
        }
      },
      "source": [
        "'''\n",
        "['alt.atheism', 'comp.graphics', 'comp.os.ms-windows.misc', 'comp.sys.ibm.pc.hardware', 'comp.sys.mac.hardware', 'comp.windows.x', 'misc.forsale', 'rec.autos', 'rec.motorcycles', 'rec.sport.baseball', 'rec.sport.hockey', 'sci.crypt', 'sci.electronics', 'sci.med', 'sci.space', 'soc.religion.christian', 'talk.politics.guns', 'talk.politics.mideast', 'talk.politics.misc', 'talk.religion.misc']\n",
        "'''\n",
        "counter = CountVectorizer()\n",
        "\n",
        "counter.fit(train_emails.data + test_emails.data)\n",
        "\n",
        "train_counts = counter.transform(train_emails.data)\n",
        "#this is the compressed sparse matrix\n",
        "\n",
        "test_counts = counter.transform(test_emails.data)\n",
        "print(type(test_counts))"
      ],
      "execution_count": 16,
      "outputs": [
        {
          "output_type": "stream",
          "text": [
            "<class 'scipy.sparse.csr.csr_matrix'>\n"
          ],
          "name": "stdout"
        }
      ]
    },
    {
      "cell_type": "code",
      "metadata": {
        "id": "I71z_BklvhaH",
        "outputId": "b8aff324-6160-41b5-83f1-47cadb502092",
        "colab": {
          "base_uri": "https://localhost:8080/",
          "height": 34
        }
      },
      "source": [
        "from sklearn.neural_network import MLPClassifier\n",
        "scores = {}\n",
        "activation = [\"relu\", \"identity\",\"tanh\",\"logistic\"]\n",
        "for i in range(len(activation)): \n",
        "    mlp_classifier = MLPClassifier(alpha=0.6,max_iter=500,activation=activation[i])\n",
        "    mlp_classifier.fit(train_counts,train_emails.target)\n",
        "    scores[activation[i]] = mlp_classifier.score(test_counts,test_emails.target)\n",
        "#print(test_counts[10])\n",
        "mlp_classifier = MLPClassifier(alpha=0.6,max_iter=500,activation=\"tanh\")\n",
        "mlp_classifier.fit(train_counts,train_emails.target)\n",
        "print(mlp_classifier.predict(test_counts[10]))\n",
        "\n",
        "#{'relu': 0.9167950693374423, 'identity': 0.9183359013867488, 'tanh': 0.9229583975346687, 'logistic': 0.9075500770416025}"
      ],
      "execution_count": 22,
      "outputs": [
        {
          "output_type": "stream",
          "text": [
            "[0]\n"
          ],
          "name": "stdout"
        }
      ]
    }
  ]
}